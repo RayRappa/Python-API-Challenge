{
 "cells": [
  {
   "cell_type": "markdown",
   "metadata": {},
   "source": [
    "# WeatherPy\n",
    "----\n",
    "\n",
    "#### Note\n",
    "* Instructions have been included for each segment. You do not have to follow them exactly, but they are included to help you think through the steps."
   ]
  },
  {
   "cell_type": "code",
   "execution_count": 1,
   "metadata": {
    "scrolled": true
   },
   "outputs": [],
   "source": [
    "# Dependencies and Setup\n",
    "import matplotlib.pyplot as plt\n",
    "import pandas as pd\n",
    "import numpy as np\n",
    "import requests\n",
    "import time\n",
    "from scipy.stats import linregress\n",
    "from pprint import pprint\n",
    "import json\n",
    "\n",
    "# Import API key\n",
    "from api_keys import weather_api_key\n",
    "\n",
    "# Incorporated citipy to determine city based performing teh on latitude and longitude\n",
    "from citipy import citipy\n",
    "\n",
    "# Output File (CSV)\n",
    "output_data_file = \"output_data/cities.csv\"\n",
    "\n",
    "# Range of latitudes and longitudes\n",
    "lat_range = (-90, 90)\n",
    "lng_range = (-180, 180)"
   ]
  },
  {
   "cell_type": "markdown",
   "metadata": {},
   "source": [
    "## Generate Cities List"
   ]
  },
  {
   "cell_type": "code",
   "execution_count": 2,
   "metadata": {},
   "outputs": [],
   "source": [
    "# Save config information.\n",
    "url = \"http://api.openweathermap.org/data/2.5/weather?\"\n",
    "units = \"imperial\"\n",
    "\n",
    "# Build partial query URL\n",
    "query_url = f\"{url}appid={weather_api_key}&units={units}&q=\""
   ]
  },
  {
   "cell_type": "code",
   "execution_count": 3,
   "metadata": {},
   "outputs": [
    {
     "data": {
      "text/plain": [
       "616"
      ]
     },
     "execution_count": 3,
     "metadata": {},
     "output_type": "execute_result"
    }
   ],
   "source": [
    "# List for holding lat_lngs and cities\n",
    "lat_lngs = []\n",
    "cities = []\n",
    "\n",
    "# Create a set of random lat and lng combinations\n",
    "lats = np.random.uniform(lat_range[0], lat_range[1], size=1500)\n",
    "lngs = np.random.uniform(lng_range[0], lng_range[1], size=1500)\n",
    "lat_lngs = zip(lats, lngs)\n",
    "\n",
    "# Identify nearest city for each lat, lng combination\n",
    "for lat_lng in lat_lngs:\n",
    "    city = citipy.nearest_city(lat_lng[0], lat_lng[1]).city_name\n",
    "    \n",
    "    # If the city is unique, then add it to a our cities list\n",
    "    if city not in cities:\n",
    "        cities.append(city)\n",
    "\n",
    "# Print the city count to confirm sufficient count\n",
    "len(cities)"
   ]
  },
  {
   "cell_type": "markdown",
   "metadata": {},
   "source": [
    "### Perform API Calls\n",
    "* Perform a weather check on each city using a series of successive API calls.\n",
    "* Include a print log of each city as it'sbeing processed (with the city number and city name).\n"
   ]
  },
  {
   "cell_type": "code",
   "execution_count": 4,
   "metadata": {},
   "outputs": [],
   "source": [
    "# set up lists to hold reponse info\n",
    "list_city = []\n",
    "list_country = []\n",
    "list_lat = []\n",
    "list_long = []\n",
    "list_temp = []\n",
    "list_cloudiness = []\n",
    "list_humidity = []\n",
    "list_wind = []\n",
    "\n",
    "counter = 0"
   ]
  },
  {
   "cell_type": "code",
   "execution_count": 5,
   "metadata": {},
   "outputs": [
    {
     "name": "stdout",
     "output_type": "stream",
     "text": [
      "getting city: busselton, count 0\n",
      "getting city: the valley, count 1\n",
      "getting city: bluff, count 2\n",
      "getting city: ketchikan, count 3\n",
      "getting city: arraial do cabo, count 4\n",
      "getting city: cayenne, count 5\n",
      "getting city: palu, count 6\n",
      "getting city: hithadhoo, count 7\n",
      "getting city: cap malheureux, count 8\n",
      "getting city: rikitea, count 9\n",
      "getting city: sao felix do xingu, count 10\n",
      "getting city: nabire, count 11\n",
      "getting city: hobart, count 12\n",
      "getting city: anadyr, count 13\n",
      "getting city: vaini, count 14\n",
      "getting city: yulara, count 15\n",
      "getting city: tuatapere, count 16\n",
      "getting city: bambous virieux, count 17\n",
      "getting city: yerbogachen, count 18\n",
      "getting city: jamestown, count 19\n",
      "getting city: baruun-urt, count 20\n",
      "getting city: aloleng, count 21\n",
      "getting city: ancud, count 22\n",
      "palabuhanratu not found\n",
      "getting city: punta arenas, count 24\n",
      "getting city: yellowknife, count 25\n",
      "getting city: agua verde, count 26\n",
      "getting city: bengkulu, count 27\n",
      "getting city: sabha, count 28\n",
      "getting city: kahului, count 29\n",
      "illoqqortoormiut not found\n",
      "getting city: vardo, count 31\n",
      "getting city: kapaa, count 32\n",
      "getting city: bathsheba, count 33\n",
      "getting city: hermanus, count 34\n",
      "getting city: komsomolskiy, count 35\n",
      "getting city: lorengau, count 36\n",
      "getting city: koumac, count 37\n",
      "getting city: nikolskoye, count 38\n",
      "getting city: east london, count 39\n",
      "getting city: hasaki, count 40\n",
      "getting city: khani, count 41\n",
      "getting city: upernavik, count 42\n",
      "getting city: dukat, count 43\n",
      "getting city: avarua, count 44\n",
      "getting city: nara, count 45\n",
      "getting city: iquitos, count 46\n",
      "getting city: mataura, count 47\n",
      "samalaeulu not found\n",
      "getting city: kaitangata, count 49\n",
      "getting city: barrow, count 50\n",
      "getting city: longyearbyen, count 51\n",
      "getting city: constitucion, count 52\n",
      "getting city: rakitnoye, count 53\n",
      "taolanaro not found\n",
      "getting city: pevek, count 55\n",
      "getting city: lavrentiya, count 56\n",
      "getting city: faanui, count 57\n",
      "getting city: chokurdakh, count 58\n",
      "getting city: husavik, count 59\n",
      "getting city: sohag, count 60\n",
      "getting city: meulaboh, count 61\n",
      "getting city: raton, count 62\n",
      "getting city: lata, count 63\n",
      "attawapiskat not found\n",
      "getting city: road town, count 65\n",
      "getting city: tura, count 66\n",
      "getting city: yatou, count 67\n",
      "getting city: san quintin, count 68\n",
      "getting city: muros, count 69\n",
      "getting city: narsaq, count 70\n",
      "getting city: krasnoarmeysk, count 71\n",
      "barawe not found\n",
      "getting city: bisho, count 73\n",
      "getting city: sur, count 74\n",
      "getting city: ushuaia, count 75\n",
      "getting city: monroe, count 76\n",
      "getting city: albany, count 77\n",
      "getting city: pasighat, count 78\n",
      "getting city: thinadhoo, count 79\n",
      "getting city: cidreira, count 80\n",
      "getting city: khatanga, count 81\n",
      "getting city: provideniya, count 82\n",
      "getting city: qaanaaq, count 83\n",
      "getting city: thunder bay, count 84\n",
      "getting city: saint george, count 85\n",
      "getting city: chuy, count 86\n",
      "getting city: sinazongwe, count 87\n",
      "getting city: cabo san lucas, count 88\n",
      "getting city: hilo, count 89\n",
      "getting city: sobolevo, count 90\n",
      "getting city: ribeira grande, count 91\n",
      "getting city: slave lake, count 92\n",
      "getting city: asyut, count 93\n",
      "getting city: castro, count 94\n",
      "getting city: georgetown, count 95\n",
      "getting city: nadym, count 96\n",
      "getting city: nanakuli, count 97\n",
      "getting city: progreso, count 98\n",
      "getting city: carsamba, count 99\n",
      "getting city: altay, count 100\n",
      "getting city: berlevag, count 101\n",
      "getting city: ulladulla, count 102\n",
      "getting city: iwanai, count 103\n",
      "getting city: zelenoborskiy, count 104\n",
      "getting city: kerema, count 105\n",
      "getting city: port elizabeth, count 106\n",
      "getting city: champerico, count 107\n",
      "getting city: shawville, count 108\n",
      "getting city: merauke, count 109\n",
      "getting city: selizharovo, count 110\n",
      "getting city: mehamn, count 111\n",
      "getting city: mikhaylovka, count 112\n",
      "getting city: new norfolk, count 113\n",
      "getting city: atuona, count 114\n",
      "getting city: kutum, count 115\n",
      "getting city: puerto ayora, count 116\n",
      "getting city: lebu, count 117\n",
      "getting city: dunedin, count 118\n",
      "mys shmidta not found\n",
      "getting city: nelson bay, count 120\n",
      "getting city: san patricio, count 121\n",
      "getting city: saint-philippe, count 122\n",
      "getting city: dubuque, count 123\n",
      "getting city: aransas pass, count 124\n",
      "getting city: marang, count 125\n",
      "getting city: bahia blanca, count 126\n",
      "getting city: katsuura, count 127\n",
      "getting city: semey, count 128\n",
      "getting city: muisne, count 129\n",
      "getting city: gat, count 130\n",
      "getting city: port alfred, count 131\n",
      "getting city: vao, count 132\n",
      "getting city: simao, count 133\n",
      "getting city: cherskiy, count 134\n",
      "getting city: namibe, count 135\n",
      "getting city: nizhnevartovsk, count 136\n",
      "getting city: jamame, count 137\n",
      "babanusah not found\n",
      "getting city: kitaibaraki, count 139\n",
      "ye not found\n",
      "getting city: mar del plata, count 141\n",
      "getting city: tete, count 142\n",
      "getting city: hualmay, count 143\n",
      "getting city: thompson, count 144\n",
      "getting city: baoding, count 145\n",
      "getting city: gongzhuling, count 146\n",
      "getting city: hovd, count 147\n",
      "getting city: tiarei, count 148\n",
      "getting city: kaeo, count 149\n",
      "getting city: cefalu, count 150\n",
      "getting city: cape town, count 151\n",
      "getting city: esperance, count 152\n",
      "getting city: inhambane, count 153\n",
      "getting city: presidencia roque saenz pena, count 154\n",
      "getting city: kiruna, count 155\n",
      "getting city: san lazaro, count 156\n",
      "getting city: moyale, count 157\n",
      "getting city: saldanha, count 158\n",
      "getting city: flinders, count 159\n",
      "getting city: mangrol, count 160\n",
      "getting city: paamiut, count 161\n",
      "getting city: cap-chat, count 162\n",
      "getting city: hami, count 163\n",
      "getting city: bairiki, count 164\n",
      "getting city: buala, count 165\n",
      "getting city: tilichiki, count 166\n",
      "getting city: orbetello, count 167\n",
      "getting city: buraydah, count 168\n",
      "getting city: riyadh, count 169\n",
      "getting city: petropavlovsk-kamchatskiy, count 170\n",
      "getting city: boa vista, count 171\n",
      "getting city: saskylakh, count 172\n",
      "tidore not found\n",
      "getting city: deputatskiy, count 174\n",
      "getting city: sept-iles, count 175\n",
      "getting city: kodiak, count 176\n",
      "getting city: port moresby, count 177\n",
      "barentsburg not found\n",
      "getting city: krasnyy yar, count 179\n",
      "getting city: san juan, count 180\n",
      "getting city: iqaluit, count 181\n",
      "getting city: rio grande, count 182\n",
      "getting city: ponta do sol, count 183\n",
      "getting city: mackay, count 184\n",
      "getting city: lagoa, count 185\n",
      "getting city: novoagansk, count 186\n",
      "getting city: bredasdorp, count 187\n",
      "getting city: severo-kurilsk, count 188\n",
      "getting city: olinda, count 189\n",
      "getting city: balasheyka, count 190\n",
      "getting city: tevaitoa, count 191\n",
      "garcovu not found\n",
      "getting city: kemijarvi, count 193\n",
      "getting city: beyneu, count 194\n",
      "getting city: jalu, count 195\n",
      "getting city: souillac, count 196\n",
      "getting city: port hardy, count 197\n",
      "getting city: bethel, count 198\n",
      "getting city: elliot lake, count 199\n",
      "getting city: pontivy, count 200\n",
      "riaba not found\n",
      "getting city: kilindoni, count 202\n",
      "getting city: xingyi, count 203\n",
      "getting city: ostrovnoy, count 204\n",
      "getting city: puerto del rosario, count 205\n",
      "getting city: fortuna, count 206\n",
      "getting city: aranos, count 207\n",
      "getting city: srednekolymsk, count 208\n",
      "getting city: hervey bay, count 209\n",
      "alotau not found\n",
      "getting city: zhigalovo, count 211\n",
      "getting city: pangoa, count 212\n",
      "getting city: shingu, count 213\n",
      "getting city: siteki, count 214\n",
      "getting city: dubai, count 215\n",
      "getting city: roald, count 216\n",
      "utiroa not found\n",
      "amderma not found\n",
      "getting city: pesochnyy, count 219\n",
      "getting city: lakes entrance, count 220\n",
      "getting city: harper, count 221\n",
      "getting city: comodoro rivadavia, count 222\n",
      "getting city: olecko, count 223\n",
      "tsihombe not found\n",
      "getting city: codrington, count 225\n",
      "getting city: porto novo, count 226\n",
      "getting city: ferrol, count 227\n",
      "getting city: novyy urengoy, count 228\n",
      "getting city: beringovskiy, count 229\n",
      "getting city: murashi, count 230\n",
      "getting city: goalpara, count 231\n",
      "tabulbah not found\n",
      "getting city: salalah, count 233\n",
      "getting city: nova floresta, count 234\n",
      "getting city: eydhafushi, count 235\n",
      "getting city: adrar, count 236\n",
      "getting city: arlit, count 237\n",
      "getting city: cabinda, count 238\n",
      "getting city: port lincoln, count 239\n",
      "getting city: oktyabrskiy, count 240\n",
      "getting city: oussouye, count 241\n",
      "getting city: touros, count 242\n",
      "getting city: viedma, count 243\n",
      "getting city: shache, count 244\n",
      "getting city: hit, count 245\n",
      "getting city: folsom, count 246\n",
      "getting city: labelle, count 247\n",
      "getting city: kindia, count 248\n",
      "getting city: manaus, count 249\n"
     ]
    },
    {
     "name": "stdout",
     "output_type": "stream",
     "text": [
      "getting city: chepareria, count 250\n",
      "getting city: muravlenko, count 251\n",
      "getting city: port-gentil, count 252\n",
      "belushya guba not found\n",
      "getting city: grindavik, count 254\n",
      "getting city: linguere, count 255\n",
      "getting city: rapid valley, count 256\n",
      "getting city: oranjemund, count 257\n",
      "getting city: butaritari, count 258\n",
      "getting city: huarmey, count 259\n",
      "getting city: suluq, count 260\n",
      "getting city: andenes, count 261\n",
      "getting city: boyuibe, count 262\n",
      "getting city: clarksburg, count 263\n",
      "getting city: half moon bay, count 264\n",
      "getting city: calama, count 265\n",
      "getting city: upata, count 266\n",
      "getting city: guerrero negro, count 267\n",
      "getting city: pemangkat, count 268\n",
      "getting city: xucheng, count 269\n",
      "getting city: pajan, count 270\n",
      "getting city: angoche, count 271\n",
      "getting city: carnarvon, count 272\n",
      "getting city: tiksi, count 273\n",
      "getting city: san cristobal, count 274\n",
      "ozgon not found\n",
      "getting city: port keats, count 276\n",
      "getting city: douentza, count 277\n",
      "getting city: tuktoyaktuk, count 278\n",
      "getting city: fairbanks, count 279\n",
      "getting city: pisco, count 280\n",
      "saleaula not found\n",
      "getting city: pachino, count 282\n",
      "getting city: hue, count 283\n",
      "getting city: nisia floresta, count 284\n",
      "getting city: tutoia, count 285\n",
      "getting city: paris, count 286\n",
      "getting city: bang saphan, count 287\n",
      "getting city: bandar-e anzali, count 288\n",
      "getting city: portland, count 289\n",
      "getting city: marawi, count 290\n",
      "getting city: nangwa, count 291\n",
      "getting city: ankang, count 292\n",
      "getting city: dryden, count 293\n",
      "getting city: seymchan, count 294\n",
      "getting city: sharjah, count 295\n",
      "getting city: ngunguru, count 296\n",
      "getting city: tasiilaq, count 297\n",
      "vaitupu not found\n",
      "getting city: zhanakorgan, count 299\n",
      "getting city: limoux, count 300\n",
      "getting city: victoria, count 301\n",
      "getting city: coos bay, count 302\n",
      "umzimvubu not found\n",
      "getting city: los llanos de aridane, count 304\n",
      "bargal not found\n",
      "getting city: leningradskiy, count 306\n",
      "tabiauea not found\n",
      "getting city: ayagoz, count 308\n",
      "getting city: tabou, count 309\n",
      "getting city: labrea, count 310\n",
      "getting city: isla vista, count 311\n",
      "getting city: nemuro, count 312\n",
      "getting city: upington, count 313\n",
      "getting city: aljezur, count 314\n",
      "getting city: jijiga, count 315\n",
      "getting city: la asuncion, count 316\n",
      "getting city: talnakh, count 317\n",
      "getting city: batagay-alyta, count 318\n",
      "getting city: plouzane, count 319\n",
      "getting city: batemans bay, count 320\n",
      "getting city: jasper, count 321\n",
      "getting city: ahuimanu, count 322\n",
      "grand river south east not found\n",
      "getting city: huruta, count 324\n",
      "getting city: torbay, count 325\n",
      "getting city: leh, count 326\n",
      "getting city: hobyo, count 327\n",
      "wahran not found\n",
      "getting city: beisfjord, count 329\n",
      "getting city: okha, count 330\n",
      "getting city: gorom-gorom, count 331\n",
      "getting city: urumqi, count 332\n",
      "getting city: kendari, count 333\n",
      "getting city: kruisfontein, count 334\n",
      "bacuit not found\n",
      "getting city: airai, count 336\n",
      "getting city: wajir, count 337\n",
      "getting city: kijang, count 338\n",
      "getting city: new albany, count 339\n",
      "getting city: coihaique, count 340\n",
      "getting city: cuenca, count 341\n",
      "getting city: kushiro, count 342\n",
      "getting city: dingle, count 343\n",
      "getting city: nanortalik, count 344\n",
      "getting city: mahina, count 345\n",
      "getting city: keti bandar, count 346\n",
      "getting city: mahebourg, count 347\n",
      "getting city: dikson, count 348\n",
      "getting city: verkhnyaya toyma, count 349\n",
      "getting city: makakilo city, count 350\n",
      "getting city: elko, count 351\n",
      "getting city: scarborough, count 352\n",
      "getting city: dale, count 353\n",
      "getting city: pokhara, count 354\n",
      "getting city: lixourion, count 355\n",
      "getting city: pangnirtung, count 356\n",
      "getting city: namatanai, count 357\n",
      "getting city: shirokiy, count 358\n",
      "getting city: san pedro, count 359\n",
      "getting city: nhulunbuy, count 360\n",
      "getting city: warri, count 361\n",
      "getting city: karpogory, count 362\n",
      "getting city: shakawe, count 363\n",
      "getting city: biograd na moru, count 364\n",
      "getting city: norman wells, count 365\n",
      "karaul not found\n",
      "getting city: plettenberg bay, count 367\n",
      "getting city: bristol, count 368\n",
      "ardistan not found\n",
      "getting city: miles city, count 370\n",
      "getting city: haines junction, count 371\n",
      "getting city: ulaangom, count 372\n",
      "warqla not found\n",
      "mergui not found\n",
      "tumannyy not found\n",
      "getting city: luderitz, count 376\n",
      "getting city: henderson, count 377\n",
      "getting city: mizan teferi, count 378\n",
      "getting city: ruteng, count 379\n",
      "getting city: berbera, count 380\n",
      "getting city: nouakchott, count 381\n",
      "getting city: sotouboua, count 382\n",
      "getting city: verkhoyansk, count 383\n",
      "getting city: diamantino, count 384\n",
      "getting city: singaraja, count 385\n",
      "getting city: sipe sipe, count 386\n",
      "getting city: katangli, count 387\n",
      "getting city: eureka, count 388\n",
      "getting city: sabang, count 389\n",
      "getting city: shimoda, count 390\n",
      "getting city: kulhudhuffushi, count 391\n",
      "getting city: manono, count 392\n",
      "getting city: barentu, count 393\n",
      "getting city: sosnogorsk, count 394\n",
      "getting city: berea, count 395\n",
      "getting city: kushima, count 396\n",
      "getting city: jacareacanga, count 397\n",
      "getting city: beidao, count 398\n",
      "getting city: richards bay, count 399\n",
      "getting city: coquimbo, count 400\n",
      "getting city: nuuk, count 401\n",
      "getting city: binzhou, count 402\n",
      "getting city: fougamou, count 403\n",
      "getting city: kargasok, count 404\n",
      "getting city: nome, count 405\n",
      "getting city: sokolow podlaski, count 406\n",
      "getting city: yarada, count 407\n",
      "getting city: grand forks, count 408\n",
      "getting city: columbia, count 409\n",
      "getting city: sao filipe, count 410\n",
      "getting city: praia da vitoria, count 411\n",
      "getting city: ghogha, count 412\n",
      "getting city: batagay, count 413\n",
      "getting city: lovington, count 414\n",
      "getting city: ahipara, count 415\n",
      "getting city: zaysan, count 416\n",
      "getting city: vila velha, count 417\n",
      "getting city: kautokeino, count 418\n",
      "getting city: moranbah, count 419\n",
      "gudiyattam not found\n",
      "getting city: nanning, count 421\n",
      "getting city: lagoa vermelha, count 422\n",
      "getting city: celestun, count 423\n",
      "louisbourg not found\n",
      "getting city: chulumani, count 425\n",
      "getting city: mount gambier, count 426\n",
      "getting city: gillette, count 427\n",
      "getting city: salinopolis, count 428\n",
      "getting city: gizo, count 429\n",
      "getting city: fallon, count 430\n",
      "getting city: colac, count 431\n",
      "getting city: aswan, count 432\n",
      "getting city: tual, count 433\n",
      "getting city: rosiesti, count 434\n",
      "getting city: samagaltay, count 435\n",
      "getting city: concordia, count 436\n",
      "getting city: lompoc, count 437\n",
      "getting city: windhoek, count 438\n",
      "getting city: eyl, count 439\n",
      "getting city: mouzouras, count 440\n",
      "getting city: hamilton, count 441\n",
      "getting city: novyy urgal, count 442\n",
      "getting city: monte gordo, count 443\n",
      "getting city: tandalti, count 444\n",
      "lolua not found\n",
      "getting city: gamba, count 446\n",
      "getting city: venado tuerto, count 447\n",
      "artyk not found\n",
      "getting city: kinablangan, count 449\n",
      "getting city: ustye, count 450\n",
      "nim ka thana not found\n",
      "getting city: killam, count 452\n",
      "getting city: juneau, count 453\n",
      "afgoye not found\n",
      "getting city: saint-joseph, count 455\n",
      "getting city: yumen, count 456\n",
      "getting city: ponnani, count 457\n",
      "getting city: bubaque, count 458\n",
      "getting city: aykino, count 459\n",
      "getting city: quatre cocos, count 460\n",
      "getting city: moissala, count 461\n",
      "getting city: somerset east, count 462\n",
      "getting city: san fernando, count 463\n",
      "getting city: huicungo, count 464\n",
      "getting city: erenhot, count 465\n",
      "getting city: santa cruz, count 466\n",
      "getting city: goundam, count 467\n",
      "getting city: cap-aux-meules, count 468\n",
      "getting city: asau, count 469\n",
      "getting city: shemonaikha, count 470\n",
      "getting city: haverfordwest, count 471\n",
      "getting city: tahta, count 472\n",
      "getting city: pacific grove, count 473\n",
      "getting city: tecpan, count 474\n",
      "getting city: yola, count 475\n",
      "getting city: visby, count 476\n",
      "getting city: liling, count 477\n",
      "getting city: san martin, count 478\n",
      "getting city: kirakira, count 479\n",
      "getting city: naryan-mar, count 480\n",
      "getting city: puruandiro, count 481\n",
      "getting city: kalmunai, count 482\n",
      "getting city: khandyga, count 483\n",
      "getting city: sompeta, count 484\n",
      "getting city: tanete, count 485\n",
      "getting city: hailey, count 486\n",
      "getting city: chino valley, count 487\n",
      "getting city: floro, count 488\n",
      "getting city: daman, count 489\n",
      "getting city: sechura, count 490\n",
      "getting city: mitsamiouli, count 491\n",
      "getting city: matagami, count 492\n",
      "getting city: alyangula, count 493\n",
      "getting city: fort nelson, count 494\n",
      "getting city: sioux lookout, count 495\n",
      "getting city: benicarlo, count 496\n",
      "getting city: kontagora, count 497\n"
     ]
    },
    {
     "name": "stdout",
     "output_type": "stream",
     "text": [
      "getting city: udachnyy, count 498\n",
      "getting city: waverley, count 499\n",
      "getting city: baykit, count 500\n",
      "getting city: neiafu, count 501\n",
      "getting city: panzhihua, count 502\n",
      "getting city: zhuhai, count 503\n",
      "getting city: mao, count 504\n",
      "getting city: sinjar, count 505\n",
      "getting city: brae, count 506\n",
      "getting city: russkaya polyana, count 507\n",
      "getting city: smithers, count 508\n",
      "getting city: sao miguel do araguaia, count 509\n",
      "getting city: sayyan, count 510\n",
      "el faiyum not found\n",
      "getting city: lodwar, count 512\n",
      "getting city: qaqortoq, count 513\n",
      "getting city: bundaberg, count 514\n",
      "getting city: palana, count 515\n",
      "getting city: mayo, count 516\n",
      "getting city: logansport, count 517\n",
      "getting city: caravelas, count 518\n",
      "getting city: camacupa, count 519\n",
      "getting city: arteaga, count 520\n",
      "ust-kamchatsk not found\n",
      "getting city: huaidian, count 522\n",
      "getting city: padang, count 523\n",
      "sorvag not found\n",
      "getting city: geraldton, count 525\n",
      "getting city: santa marta, count 526\n",
      "getting city: torbat-e jam, count 527\n",
      "getting city: te anau, count 528\n",
      "getting city: marica, count 529\n",
      "getting city: surt, count 530\n",
      "getting city: port blair, count 531\n",
      "getting city: mastic beach, count 532\n",
      "getting city: tomatlan, count 533\n",
      "getting city: netrakona, count 534\n",
      "getting city: phan thiet, count 535\n",
      "getting city: avera, count 536\n",
      "getting city: falam, count 537\n",
      "getting city: soe, count 538\n",
      "getting city: imbituba, count 539\n",
      "getting city: listvyanka, count 540\n",
      "getting city: kurilsk, count 541\n",
      "getting city: samarai, count 542\n",
      "getting city: tazovskiy, count 543\n",
      "getting city: konevo, count 544\n",
      "getting city: alekseyevsk, count 545\n",
      "getting city: whitley bay, count 546\n",
      "getting city: isangel, count 547\n",
      "getting city: lumberton, count 548\n",
      "getting city: broken hill, count 549\n",
      "getting city: pangody, count 550\n",
      "getting city: puerto varas, count 551\n",
      "getting city: kultayevo, count 552\n",
      "getting city: saint-augustin, count 553\n",
      "kazalinsk not found\n",
      "getting city: berdigestyakh, count 555\n",
      "getting city: shenjiamen, count 556\n",
      "getting city: aguimes, count 557\n",
      "getting city: rahuri, count 558\n",
      "getting city: kaberamaido, count 559\n",
      "getting city: ekibastuz, count 560\n",
      "getting city: sistranda, count 561\n",
      "getting city: asilah, count 562\n",
      "getting city: mundo nuevo, count 563\n",
      "getting city: tiznit, count 564\n",
      "getting city: meybod, count 565\n",
      "getting city: nobeoka, count 566\n",
      "getting city: quang ngai, count 567\n",
      "getting city: senador jose porfirio, count 568\n",
      "getting city: bilibino, count 569\n",
      "getting city: mount isa, count 570\n",
      "getting city: port shepstone, count 571\n",
      "getting city: tibiri, count 572\n",
      "getting city: grand gaube, count 573\n",
      "getting city: dalaba, count 574\n",
      "getting city: ilulissat, count 575\n",
      "getting city: sanmenxia, count 576\n",
      "getting city: matay, count 577\n",
      "getting city: shu, count 578\n",
      "getting city: bonfim, count 579\n",
      "getting city: yining, count 580\n",
      "getting city: laiwu, count 581\n",
      "getting city: inta, count 582\n",
      "getting city: betsiamites, count 583\n",
      "getting city: mercedes, count 584\n",
      "getting city: banda aceh, count 585\n",
      "getting city: severinia, count 586\n",
      "yuzhno-yeniseyskiy not found\n",
      "getting city: caohai, count 588\n",
      "getting city: bay-khaak, count 589\n",
      "getting city: vicosa, count 590\n",
      "getting city: nkhotakota, count 591\n",
      "getting city: clyde river, count 592\n",
      "getting city: concarneau, count 593\n",
      "getting city: maceio, count 594\n",
      "getting city: antalaha, count 595\n",
      "getting city: den helder, count 596\n",
      "getting city: la espigadilla, count 597\n",
      "getting city: tabuk, count 598\n",
      "getting city: wajima, count 599\n",
      "getting city: abha, count 600\n",
      "getting city: santa isabel do rio negro, count 601\n",
      "getting city: sola, count 602\n",
      "getting city: dhidhdhoo, count 603\n",
      "getting city: aldan, count 604\n",
      "getting city: pedernales, count 605\n",
      "getting city: saint-paul, count 606\n",
      "getting city: kalmar, count 607\n",
      "getting city: bose, count 608\n",
      "getting city: belmonte, count 609\n",
      "getting city: honiara, count 610\n",
      "getting city: partizanskoye, count 611\n",
      "getting city: henties bay, count 612\n",
      "gorkovskoye not found\n",
      "getting city: porto-vecchio, count 614\n",
      "getting city: bilma, count 615\n"
     ]
    }
   ],
   "source": [
    "url = f'http://api.openweathermap.org/data/2.5/weather?appid={weather_api_key}&units=imperial&q='\n",
    "\n",
    "# Loop through the list of cities and perform a request for data on each\n",
    "for city in cities:\n",
    "    \n",
    "    try:\n",
    "    \n",
    "        response = requests.get(url + city).json()\n",
    "    \n",
    "        list_city.append(response['name'])\n",
    "        list_country.append(response['sys']['country'])\n",
    "        list_lat.append(response['coord']['lat'])\n",
    "        list_long.append(response['coord']['lon'])\n",
    "        list_temp.append(response['main']['temp'])   \n",
    "        list_humidity.append(response['main']['humidity'])  \n",
    "        list_cloudiness.append(response['clouds']['all']) \n",
    "        list_wind.append(response['wind']['speed']) \n",
    "    \n",
    "        print(f'getting city: {city}, count {counter}')\n",
    "    \n",
    "    except:\n",
    "        print(f'{city} not found')\n",
    "    \n",
    "    counter += 1\n",
    "\n"
   ]
  },
  {
   "cell_type": "markdown",
   "metadata": {},
   "source": [
    "### Convert Raw Data to DataFrame\n",
    "* Export the city data into a .csv.\n",
    "* Display the DataFrame"
   ]
  },
  {
   "cell_type": "code",
   "execution_count": 6,
   "metadata": {},
   "outputs": [],
   "source": [
    "weather_data_df = pd.DataFrame({\n",
    "    'City': list_city, \n",
    "    'Country': list_country, \n",
    "    'Lat': list_lat, \n",
    "    'Long': list_long, \n",
    "    'Temp': list_temp, \n",
    "    'Humidity': list_humidity, \n",
    "    'Cloudiness': list_cloudiness, \n",
    "    'Wind Speed': list_wind, \n",
    "    \n",
    "})"
   ]
  },
  {
   "cell_type": "code",
   "execution_count": 7,
   "metadata": {
    "scrolled": false
   },
   "outputs": [
    {
     "data": {
      "text/html": [
       "<div>\n",
       "<style scoped>\n",
       "    .dataframe tbody tr th:only-of-type {\n",
       "        vertical-align: middle;\n",
       "    }\n",
       "\n",
       "    .dataframe tbody tr th {\n",
       "        vertical-align: top;\n",
       "    }\n",
       "\n",
       "    .dataframe thead th {\n",
       "        text-align: right;\n",
       "    }\n",
       "</style>\n",
       "<table border=\"1\" class=\"dataframe\">\n",
       "  <thead>\n",
       "    <tr style=\"text-align: right;\">\n",
       "      <th></th>\n",
       "      <th>City</th>\n",
       "      <th>Country</th>\n",
       "      <th>Lat</th>\n",
       "      <th>Long</th>\n",
       "      <th>Temp</th>\n",
       "      <th>Humidity</th>\n",
       "      <th>Cloudiness</th>\n",
       "      <th>Wind Speed</th>\n",
       "    </tr>\n",
       "  </thead>\n",
       "  <tbody>\n",
       "    <tr>\n",
       "      <th>0</th>\n",
       "      <td>Busselton</td>\n",
       "      <td>AU</td>\n",
       "      <td>-33.6500</td>\n",
       "      <td>115.3333</td>\n",
       "      <td>63.59</td>\n",
       "      <td>59</td>\n",
       "      <td>0</td>\n",
       "      <td>2.42</td>\n",
       "    </tr>\n",
       "    <tr>\n",
       "      <th>1</th>\n",
       "      <td>The Valley</td>\n",
       "      <td>AI</td>\n",
       "      <td>18.2170</td>\n",
       "      <td>-63.0578</td>\n",
       "      <td>82.26</td>\n",
       "      <td>76</td>\n",
       "      <td>18</td>\n",
       "      <td>13.27</td>\n",
       "    </tr>\n",
       "    <tr>\n",
       "      <th>2</th>\n",
       "      <td>Bluff</td>\n",
       "      <td>NZ</td>\n",
       "      <td>-46.6000</td>\n",
       "      <td>168.3333</td>\n",
       "      <td>53.80</td>\n",
       "      <td>62</td>\n",
       "      <td>15</td>\n",
       "      <td>19.30</td>\n",
       "    </tr>\n",
       "    <tr>\n",
       "      <th>3</th>\n",
       "      <td>Ketchikan</td>\n",
       "      <td>US</td>\n",
       "      <td>55.3422</td>\n",
       "      <td>-131.6461</td>\n",
       "      <td>55.87</td>\n",
       "      <td>94</td>\n",
       "      <td>75</td>\n",
       "      <td>12.66</td>\n",
       "    </tr>\n",
       "    <tr>\n",
       "      <th>4</th>\n",
       "      <td>Arraial do Cabo</td>\n",
       "      <td>BR</td>\n",
       "      <td>-22.9661</td>\n",
       "      <td>-42.0278</td>\n",
       "      <td>70.77</td>\n",
       "      <td>84</td>\n",
       "      <td>100</td>\n",
       "      <td>28.19</td>\n",
       "    </tr>\n",
       "  </tbody>\n",
       "</table>\n",
       "</div>"
      ],
      "text/plain": [
       "              City Country      Lat      Long   Temp  Humidity  Cloudiness  \\\n",
       "0        Busselton      AU -33.6500  115.3333  63.59        59           0   \n",
       "1       The Valley      AI  18.2170  -63.0578  82.26        76          18   \n",
       "2            Bluff      NZ -46.6000  168.3333  53.80        62          15   \n",
       "3        Ketchikan      US  55.3422 -131.6461  55.87        94          75   \n",
       "4  Arraial do Cabo      BR -22.9661  -42.0278  70.77        84         100   \n",
       "\n",
       "   Wind Speed  \n",
       "0        2.42  \n",
       "1       13.27  \n",
       "2       19.30  \n",
       "3       12.66  \n",
       "4       28.19  "
      ]
     },
     "execution_count": 7,
     "metadata": {},
     "output_type": "execute_result"
    }
   ],
   "source": [
    "weather_data_df.head()"
   ]
  },
  {
   "cell_type": "code",
   "execution_count": 8,
   "metadata": {},
   "outputs": [],
   "source": [
    "weather_data_df.to_csv('weather.csv', encoding='utf-8', index=False, header=True)"
   ]
  },
  {
   "cell_type": "markdown",
   "metadata": {},
   "source": [
    "## Inspect the data and remove the cities where the humidity > 100%.\n",
    "----\n",
    "Skip this step if there are no cities that have humidity > 100%. "
   ]
  },
  {
   "cell_type": "code",
   "execution_count": null,
   "metadata": {},
   "outputs": [],
   "source": []
  },
  {
   "cell_type": "code",
   "execution_count": 9,
   "metadata": {},
   "outputs": [],
   "source": [
    "#  Get the indices of cities that have humidity over 100%.\n"
   ]
  },
  {
   "cell_type": "code",
   "execution_count": 10,
   "metadata": {},
   "outputs": [],
   "source": [
    "# Make a new DataFrame equal to the city data to drop all humidity outliers by index.\n",
    "# Passing \"inplace=False\" will make a copy of the city_data DataFrame, which we call \"clean_city_data\".\n"
   ]
  },
  {
   "cell_type": "code",
   "execution_count": null,
   "metadata": {},
   "outputs": [],
   "source": [
    "\n"
   ]
  },
  {
   "cell_type": "markdown",
   "metadata": {},
   "source": [
    "## Plotting the Data\n",
    "* Use proper labeling of the plots using plot titles (including date of analysis) and axes labels.\n",
    "* Save the plotted figures as .pngs."
   ]
  },
  {
   "cell_type": "markdown",
   "metadata": {},
   "source": [
    "## Latitude vs. Temperature Plot"
   ]
  },
  {
   "cell_type": "code",
   "execution_count": 11,
   "metadata": {
    "scrolled": true
   },
   "outputs": [
    {
     "data": {
      "image/png": "[encoded data removed]",
      "text/plain": [
       "<Figure size 432x288 with 1 Axes>"
      ]
     },
     "metadata": {
      "needs_background": "light"
     },
     "output_type": "display_data"
    }
   ],
   "source": [
    "weather_data_df.plot.scatter(\n",
    "    x = 'Lat', \n",
    "    y = 'Temp',\n",
    ")\n",
    "plt.grid(alpha=0.5)\n",
    "plt.xlabel('Latitude')\n",
    "plt.ylabel('Max Temperature (C)')\n",
    "plt.title('City Latitude vs. Max Temperature')\n",
    "plt.tight_layout()\n",
    "plt.savefig('images/lat_vs_temp.png')\n",
    "plt.show()\n",
    "\n",
    "#This plot shows how temperature varies with distance from zero latitude."
   ]
  },
  {
   "cell_type": "markdown",
   "metadata": {},
   "source": [
    "## Latitude vs. Humidity Plot"
   ]
  },
  {
   "cell_type": "code",
   "execution_count": 12,
   "metadata": {},
   "outputs": [
    {
     "data": {
      "image/png": "[encoded data removed]",
      "text/plain": [
       "<Figure size 432x288 with 1 Axes>"
      ]
     },
     "metadata": {
      "needs_background": "light"
     },
     "output_type": "display_data"
    }
   ],
   "source": [
    "weather_data_df.plot.scatter(\n",
    "    x = 'Lat', \n",
    "    y = 'Humidity',\n",
    ")\n",
    "plt.grid(alpha=0.5)\n",
    "plt.xlabel('Latitude')\n",
    "plt.ylabel('Humidity')\n",
    "plt.title('City Latitude vs. Humidity')\n",
    "plt.tight_layout()\n",
    "plt.savefig('images/lat_vs_humidity.png')\n",
    "plt.show()\n",
    "\n",
    "#This plot is showing the further east from 0 lat that you go, there seems to be more humidity"
   ]
  },
  {
   "cell_type": "markdown",
   "metadata": {},
   "source": [
    "## Latitude vs. Cloudiness Plot"
   ]
  },
  {
   "cell_type": "code",
   "execution_count": 13,
   "metadata": {},
   "outputs": [
    {
     "data": {
      "image/png": "[encoded data removed]",
      "text/plain": [
       "<Figure size 432x288 with 1 Axes>"
      ]
     },
     "metadata": {
      "needs_background": "light"
     },
     "output_type": "display_data"
    }
   ],
   "source": [
    "weather_data_df.plot.scatter(\n",
    "    x = 'Lat', \n",
    "    y = 'Cloudiness',\n",
    ")\n",
    "plt.grid(alpha=0.5)\n",
    "plt.xlabel('Latitude')\n",
    "plt.ylabel('Cloudiness')\n",
    "plt.title('City Latitude vs. Cloudiness')\n",
    "plt.tight_layout()\n",
    "plt.savefig('images/lat_vs_Cloudiness.png')\n",
    "plt.show()\n",
    "#This plot shows how much cloud cover there is the more you go from 0 lat"
   ]
  },
  {
   "cell_type": "markdown",
   "metadata": {},
   "source": [
    "## Latitude vs. Wind Speed Plot"
   ]
  },
  {
   "cell_type": "code",
   "execution_count": 14,
   "metadata": {},
   "outputs": [
    {
     "data": {
      "image/png": "[encoded data removed]",
      "text/plain": [
       "<Figure size 432x288 with 1 Axes>"
      ]
     },
     "metadata": {
      "needs_background": "light"
     },
     "output_type": "display_data"
    }
   ],
   "source": [
    "weather_data_df.plot.scatter(\n",
    "    x = 'Lat', \n",
    "    y = 'Wind Speed',\n",
    ")\n",
    "plt.grid(alpha=0.5)\n",
    "plt.xlabel('Latitude')\n",
    "plt.ylabel('Wind Speed')\n",
    "plt.title('City Latitude vs. Wind Speed')\n",
    "plt.tight_layout()\n",
    "plt.savefig('images/lat_vs_Wind Speed.png')\n",
    "plt.show()"
   ]
  },
  {
   "cell_type": "markdown",
   "metadata": {},
   "source": [
    "## Linear Regression"
   ]
  },
  {
   "cell_type": "code",
   "execution_count": 20,
   "metadata": {},
   "outputs": [
    {
     "data": {
      "text/html": [
       "<div>\n",
       "<style scoped>\n",
       "    .dataframe tbody tr th:only-of-type {\n",
       "        vertical-align: middle;\n",
       "    }\n",
       "\n",
       "    .dataframe tbody tr th {\n",
       "        vertical-align: top;\n",
       "    }\n",
       "\n",
       "    .dataframe thead th {\n",
       "        text-align: right;\n",
       "    }\n",
       "</style>\n",
       "<table border=\"1\" class=\"dataframe\">\n",
       "  <thead>\n",
       "    <tr style=\"text-align: right;\">\n",
       "      <th></th>\n",
       "      <th>Lat</th>\n",
       "      <th>Long</th>\n",
       "      <th>Temp</th>\n",
       "      <th>Humidity</th>\n",
       "      <th>Cloudiness</th>\n",
       "      <th>Wind Speed</th>\n",
       "    </tr>\n",
       "  </thead>\n",
       "  <tbody>\n",
       "    <tr>\n",
       "      <th>count</th>\n",
       "      <td>571.000000</td>\n",
       "      <td>571.000000</td>\n",
       "      <td>571.000000</td>\n",
       "      <td>571.000000</td>\n",
       "      <td>571.000000</td>\n",
       "      <td>571.000000</td>\n",
       "    </tr>\n",
       "    <tr>\n",
       "      <th>mean</th>\n",
       "      <td>19.939468</td>\n",
       "      <td>20.917867</td>\n",
       "      <td>63.744834</td>\n",
       "      <td>70.628722</td>\n",
       "      <td>55.057793</td>\n",
       "      <td>7.976095</td>\n",
       "    </tr>\n",
       "    <tr>\n",
       "      <th>std</th>\n",
       "      <td>33.166772</td>\n",
       "      <td>90.579318</td>\n",
       "      <td>16.883258</td>\n",
       "      <td>21.142677</td>\n",
       "      <td>41.810875</td>\n",
       "      <td>5.743614</td>\n",
       "    </tr>\n",
       "    <tr>\n",
       "      <th>min</th>\n",
       "      <td>-54.800000</td>\n",
       "      <td>-175.200000</td>\n",
       "      <td>10.540000</td>\n",
       "      <td>1.000000</td>\n",
       "      <td>0.000000</td>\n",
       "      <td>0.000000</td>\n",
       "    </tr>\n",
       "    <tr>\n",
       "      <th>25%</th>\n",
       "      <td>-7.938500</td>\n",
       "      <td>-60.556050</td>\n",
       "      <td>52.340000</td>\n",
       "      <td>61.000000</td>\n",
       "      <td>7.000000</td>\n",
       "      <td>3.670000</td>\n",
       "    </tr>\n",
       "    <tr>\n",
       "      <th>50%</th>\n",
       "      <td>22.916700</td>\n",
       "      <td>27.430600</td>\n",
       "      <td>66.760000</td>\n",
       "      <td>77.000000</td>\n",
       "      <td>74.000000</td>\n",
       "      <td>6.580000</td>\n",
       "    </tr>\n",
       "    <tr>\n",
       "      <th>75%</th>\n",
       "      <td>47.566650</td>\n",
       "      <td>99.923550</td>\n",
       "      <td>77.710000</td>\n",
       "      <td>86.000000</td>\n",
       "      <td>99.000000</td>\n",
       "      <td>11.490000</td>\n",
       "    </tr>\n",
       "    <tr>\n",
       "      <th>max</th>\n",
       "      <td>78.218600</td>\n",
       "      <td>179.316700</td>\n",
       "      <td>94.330000</td>\n",
       "      <td>100.000000</td>\n",
       "      <td>100.000000</td>\n",
       "      <td>35.030000</td>\n",
       "    </tr>\n",
       "  </tbody>\n",
       "</table>\n",
       "</div>"
      ],
      "text/plain": [
       "              Lat        Long        Temp    Humidity  Cloudiness  Wind Speed\n",
       "count  571.000000  571.000000  571.000000  571.000000  571.000000  571.000000\n",
       "mean    19.939468   20.917867   63.744834   70.628722   55.057793    7.976095\n",
       "std     33.166772   90.579318   16.883258   21.142677   41.810875    5.743614\n",
       "min    -54.800000 -175.200000   10.540000    1.000000    0.000000    0.000000\n",
       "25%     -7.938500  -60.556050   52.340000   61.000000    7.000000    3.670000\n",
       "50%     22.916700   27.430600   66.760000   77.000000   74.000000    6.580000\n",
       "75%     47.566650   99.923550   77.710000   86.000000   99.000000   11.490000\n",
       "max     78.218600  179.316700   94.330000  100.000000  100.000000   35.030000"
      ]
     },
     "execution_count": 20,
     "metadata": {},
     "output_type": "execute_result"
    }
   ],
   "source": [
    "northern_df = weather_data_df[weather_data_df['Lat']>=0]\n",
    "southern_df = weather_data_df[weather_data_df['Lat']<0]\n",
    "\n",
    "weather_data_df.describe()"
   ]
  },
  {
   "cell_type": "markdown",
   "metadata": {},
   "source": [
    "####  Northern Hemisphere - Max Temp vs. Latitude Linear Regression"
   ]
  },
  {
   "cell_type": "code",
   "execution_count": 24,
   "metadata": {},
   "outputs": [
    {
     "name": "stdout",
     "output_type": "stream",
     "text": [
      "The r-value is: 0.6987\n"
     ]
    },
    {
     "data": {
      "image/png": "[encoded data removed]",
      "text/plain": [
       "<Figure size 432x288 with 1 Axes>"
      ]
     },
     "metadata": {
      "needs_background": "light"
     },
     "output_type": "display_data"
    }
   ],
   "source": [
    "x_values = northern_df['Lat']\n",
    "y_values = northern_df['Temp']\n",
    "coord = (0,20)\n",
    "(slope, intercept, rvalue, pvalue, stderr) = linregress(x_values, y_values)\n",
    "x_label='Latitude', \n",
    "y_label='Max Temp (F)', \n",
    "filename='northern_temp_vs_lat'\n",
    "regress_values = x_values * slope + intercept\n",
    "line_eq = 'y = ' + str(round(slope,2)) + 'x + ' + str(round(intercept,2))\n",
    "print(f'The r-value is: {round(rvalue**2, 4)}')\n",
    "plt.scatter(x_values, y_values)\n",
    "plt.plot(x_values, regress_values, 'r-')\n",
    "plt.xlabel(x_label)\n",
    "plt.ylabel(y_label)\n",
    "plt.annotate(line_eq, coord, fontsize=16, color='r')\n",
    "plt.tight_layout()\n",
    "plt.savefig(f'images/{filename}.png')\n",
    "plt.show()\n",
    "#"
   ]
  },
  {
   "cell_type": "markdown",
   "metadata": {},
   "source": [
    "####  Southern Hemisphere - Max Temp vs. Latitude Linear Regression"
   ]
  },
  {
   "cell_type": "code",
   "execution_count": 28,
   "metadata": {},
   "outputs": [
    {
     "name": "stdout",
     "output_type": "stream",
     "text": [
      "The r-value is: 0.5859\n"
     ]
    },
    {
     "data": {
      "image/png": "[encoded data removed]",
      "text/plain": [
       "<Figure size 432x288 with 1 Axes>"
      ]
     },
     "metadata": {
      "needs_background": "light"
     },
     "output_type": "display_data"
    }
   ],
   "source": [
    "x_values = southern_df['Lat']\n",
    "y_values = southern_df['Temp']\n",
    "coord = (-20,50)\n",
    "(slope, intercept, rvalue, pvalue, stderr) = linregress(x_values, y_values)\n",
    "x_label='Latitude', \n",
    "y_label='Max Temp (F)', \n",
    "filename='southern_temp_vs_lat'\n",
    "regress_values = x_values * slope + intercept\n",
    "line_eq = 'y = ' + str(round(slope,-2)) + 'x + ' + str(round(intercept,-2))\n",
    "print(f'The r-value is: {round(rvalue**2, 4)}')\n",
    "plt.scatter(x_values, y_values)\n",
    "plt.plot(x_values, regress_values, \"r-\")\n",
    "plt.xlabel(x_label)\n",
    "plt.ylabel(y_label)\n",
    "plt.annotate(line_eq, coord, fontsize=14, color='r')\n",
    "plt.tight_layout()\n",
    "plt.savefig(f'images/{filename}.png')\n",
    "plt.show()\n",
    "# between the northern and southern charts, it does show a higher number of greater temerperatures than the north."
   ]
  },
  {
   "cell_type": "markdown",
   "metadata": {},
   "source": [
    "####  Northern Hemisphere - Humidity (%) vs. Latitude Linear Regression"
   ]
  },
  {
   "cell_type": "code",
   "execution_count": 30,
   "metadata": {},
   "outputs": [
    {
     "name": "stdout",
     "output_type": "stream",
     "text": [
      "The r-value is: 0.0002\n"
     ]
    },
    {
     "data": {
      "image/png": "[encoded data removed]",
      "text/plain": [
       "<Figure size 432x288 with 1 Axes>"
      ]
     },
     "metadata": {
      "needs_background": "light"
     },
     "output_type": "display_data"
    }
   ],
   "source": [
    "x_values = northern_df['Lat']\n",
    "y_values = northern_df['Humidity']\n",
    "(slope, intercept, rvalue, pvalue, stderr) = linregress(x_values, y_values)\n",
    "coord = (0,20)\n",
    "x_label='Humidity', \n",
    "y_label='Max Temp (F)', \n",
    "filename='northern_humid_vs_lat'\n",
    "regress_values = x_values * slope + intercept\n",
    "line_eq = 'y = ' + str(round(slope,2)) + 'x + ' + str(round(intercept,2))\n",
    "print(f'The r-value is: {round(rvalue**2, 4)}')\n",
    "plt.scatter(x_values, y_values)\n",
    "plt.plot(x_values, regress_values, 'r-')\n",
    "plt.xlabel(x_label)\n",
    "plt.ylabel(y_label)\n",
    "plt.annotate(line_eq, coord, fontsize=14, color='r')\n",
    "plt.tight_layout()\n",
    "plt.savefig(f'images/{filename}.png')\n",
    "plt.show()"
   ]
  },
  {
   "cell_type": "markdown",
   "metadata": {},
   "source": [
    "####  Southern Hemisphere - Humidity (%) vs. Latitude Linear Regression"
   ]
  },
  {
   "cell_type": "code",
   "execution_count": 34,
   "metadata": {},
   "outputs": [
    {
     "name": "stdout",
     "output_type": "stream",
     "text": [
      "The r-value is: 0.0252\n"
     ]
    },
    {
     "data": {
      "image/png": "[encoded data removed]",
      "text/plain": [
       "<Figure size 432x288 with 1 Axes>"
      ]
     },
     "metadata": {
      "needs_background": "light"
     },
     "output_type": "display_data"
    }
   ],
   "source": [
    "x_values = southern_df['Lat']\n",
    "y_values = southern_df['Humidity']\n",
    "(slope, intercept, rvalue, pvalue, stderr) = linregress(x_values, y_values)\n",
    "coord = (-20,50)\n",
    "x_label='Humidity', \n",
    "y_label='Max Temp (F)', \n",
    "filename='southern_humid_vs_lat'\n",
    "regress_values = x_values * slope + intercept\n",
    "line_eq = 'y = ' + str(round(slope,2)) + 'x + ' + str(round(intercept,2))\n",
    "print(f'The r-value is: {round(rvalue**2, 4)}')\n",
    "plt.scatter(x_values, y_values)\n",
    "plt.plot(x_values, regress_values, 'r-')\n",
    "plt.xlabel(x_label)\n",
    "plt.ylabel(y_label)\n",
    "plt.annotate(line_eq, coord, fontsize=14, color='r')\n",
    "plt.tight_layout()\n",
    "plt.savefig(f'images/{filename}.png')\n",
    "plt.show()\n",
    "\n",
    "#This map shows there seems to be a higher perentage of humidity than north"
   ]
  },
  {
   "cell_type": "markdown",
   "metadata": {},
   "source": [
    "####  Northern Hemisphere - Cloudiness (%) vs. Latitude Linear Regression"
   ]
  },
  {
   "cell_type": "code",
   "execution_count": 35,
   "metadata": {},
   "outputs": [
    {
     "name": "stdout",
     "output_type": "stream",
     "text": [
      "The r-value is: 0.0009\n"
     ]
    },
    {
     "data": {
      "image/png": "[encoded data removed]",
      "text/plain": [
       "<Figure size 432x288 with 1 Axes>"
      ]
     },
     "metadata": {
      "needs_background": "light"
     },
     "output_type": "display_data"
    }
   ],
   "source": [
    "x_values = northern_df['Lat']\n",
    "y_values = northern_df['Cloudiness']\n",
    "coord = (0,20)\n",
    "(slope, intercept, rvalue, pvalue, stderr) = linregress(x_values, y_values)\n",
    "x_label='Latitude', \n",
    "y_label='Cloudiness (%)', \n",
    "filename='northern_cloud_vs_lat'\n",
    "regress_values = x_values * slope + intercept\n",
    "line_eq = 'y = ' + str(round(slope,2)) + 'x + ' + str(round(intercept,2))\n",
    "print(f'The r-value is: {round(rvalue**2, 4)}')\n",
    "plt.scatter(x_values, y_values)\n",
    "plt.plot(x_values, regress_values, 'r-')\n",
    "plt.xlabel(x_label)\n",
    "plt.ylabel(y_label)\n",
    "plt.annotate(line_eq, coord, fontsize=16, color='r')\n",
    "plt.tight_layout()\n",
    "plt.savefig(f'images/{filename}.png')\n",
    "plt.show()"
   ]
  },
  {
   "cell_type": "markdown",
   "metadata": {},
   "source": [
    "####  Southern Hemisphere - Cloudiness (%) vs. Latitude Linear Regression"
   ]
  },
  {
   "cell_type": "code",
   "execution_count": 38,
   "metadata": {},
   "outputs": [
    {
     "name": "stdout",
     "output_type": "stream",
     "text": [
      "The r-value is: 0.0876\n"
     ]
    },
    {
     "data": {
      "image/png": "[encoded data removed]",
      "text/plain": [
       "<Figure size 432x288 with 1 Axes>"
      ]
     },
     "metadata": {
      "needs_background": "light"
     },
     "output_type": "display_data"
    }
   ],
   "source": [
    "x_values = southern_df['Lat']\n",
    "y_values = southern_df['Cloudiness']\n",
    "(slope, intercept, rvalue, pvalue, stderr) = linregress(x_values, y_values)\n",
    "coord = (-20,50)\n",
    "x_label='Latitude', \n",
    "y_label='Cloudiness', \n",
    "filename='southern_cloud_vs_lat'\n",
    "regress_values = x_values * slope + intercept\n",
    "line_eq = 'y = ' + str(round(slope,2)) + 'x + ' + str(round(intercept,2))\n",
    "print(f'The r-value is: {round(rvalue**2, 4)}')\n",
    "plt.scatter(x_values, y_values)\n",
    "plt.plot(x_values, regress_values, 'r-')\n",
    "plt.xlabel(x_label)\n",
    "plt.ylabel(y_label)\n",
    "plt.annotate(line_eq, coord, fontsize=14, color='r')\n",
    "plt.tight_layout()\n",
    "plt.savefig(f'images/{filename}.png')\n",
    "plt.show()"
   ]
  },
  {
   "cell_type": "markdown",
   "metadata": {},
   "source": [
    "####  Northern Hemisphere - Wind Speed (mph) vs. Latitude Linear Regression"
   ]
  },
  {
   "cell_type": "code",
   "execution_count": 39,
   "metadata": {},
   "outputs": [
    {
     "name": "stdout",
     "output_type": "stream",
     "text": [
      "The r-value is: 0.6987\n"
     ]
    },
    {
     "data": {
      "image/png": "[encoded data removed]",
      "text/plain": [
       "<Figure size 432x288 with 1 Axes>"
      ]
     },
     "metadata": {
      "needs_background": "light"
     },
     "output_type": "display_data"
    }
   ],
   "source": [
    "x_values = northern_df['Lat']\n",
    "y_values = northern_df['Temp']\n",
    "(slope, intercept, rvalue, pvalue, stderr) = linregress(x_values, y_values)\n",
    "coord = (0,20)\n",
    "x_label='Latitude', \n",
    "y_label='Max Temp (F)', \n",
    "filename='northern_temp_vs_lat'\n",
    "regress_values = x_values * slope + intercept\n",
    "line_eq = 'y = ' + str(round(slope,2)) + 'x + ' + str(round(intercept,2))\n",
    "print(f'The r-value is: {round(rvalue**2, 4)}')\n",
    "plt.scatter(x_values, y_values)\n",
    "plt.plot(x_values, regress_values, 'r-')\n",
    "plt.xlabel(x_label)\n",
    "plt.ylabel(y_label)\n",
    "plt.annotate(line_eq, coord, fontsize=14, color='r')\n",
    "plt.tight_layout()\n",
    "plt.savefig(f'images/{filename}.png')\n",
    "plt.show()"
   ]
  },
  {
   "cell_type": "markdown",
   "metadata": {},
   "source": [
    "####  Southern Hemisphere - Wind Speed (mph) vs. Latitude Linear Regression"
   ]
  },
  {
   "cell_type": "code",
   "execution_count": 40,
   "metadata": {},
   "outputs": [
    {
     "name": "stdout",
     "output_type": "stream",
     "text": [
      "The r-value is: 0.0006\n"
     ]
    },
    {
     "data": {
      "image/png": "[encoded data removed]",
      "text/plain": [
       "<Figure size 432x288 with 1 Axes>"
      ]
     },
     "metadata": {
      "needs_background": "light"
     },
     "output_type": "display_data"
    }
   ],
   "source": [
    "x_values = southern_df['Lat']\n",
    "y_values = southern_df['Wind Speed']\n",
    "(slope, intercept, rvalue, pvalue, stderr) = linregress(x_values, y_values)\n",
    "coord = (-20,50)\n",
    "x_label='Latitude', \n",
    "y_label='Wind Speed', \n",
    "filename='southern_wind_vs_lat'\n",
    "regress_values = x_values * slope + intercept\n",
    "line_eq = 'y = ' + str(round(slope,2)) + 'x + ' + str(round(intercept,2))\n",
    "print(f'The r-value is: {round(rvalue**2, 4)}')\n",
    "plt.scatter(x_values, y_values)\n",
    "plt.plot(x_values, regress_values, 'r-')\n",
    "plt.xlabel(x_label)\n",
    "plt.ylabel(y_label)\n",
    "plt.annotate(line_eq, coord, fontsize=14, color='r')\n",
    "plt.tight_layout()\n",
    "plt.savefig(f'images/{filename}.png')\n",
    "plt.show()"
   ]
  },
  {
   "cell_type": "code",
   "execution_count": null,
   "metadata": {},
   "outputs": [],
   "source": []
  },
  {
   "cell_type": "code",
   "execution_count": null,
   "metadata": {},
   "outputs": [],
   "source": []
  },
  {
   "cell_type": "code",
   "execution_count": null,
   "metadata": {},
   "outputs": [],
   "source": []
  }
 ],
 "metadata": {
  "anaconda-cloud": {},
  "kernel_info": {
   "name": "python3"
  },
  "kernelspec": {
   "display_name": "Python 3",
   "language": "python",
   "name": "python3"
  },
  "language_info": {
   "codemirror_mode": {
    "name": "ipython",
    "version": 3
   },
   "file_extension": ".py",
   "mimetype": "text/x-python",
   "name": "python",
   "nbconvert_exporter": "python",
   "pygments_lexer": "ipython3",
   "version": "3.8.8"
  },
  "latex_envs": {
   "LaTeX_envs_menu_present": true,
   "autoclose": false,
   "autocomplete": true,
   "bibliofile": "biblio.bib",
   "cite_by": "apalike",
   "current_citInitial": 1,
   "eqLabelWithNumbers": true,
   "eqNumInitial": 1,
   "hotkeys": {
    "equation": "Ctrl-E",
    "itemize": "Ctrl-I"
   },
   "labels_anchors": false,
   "latex_user_defs": false,
   "report_style_numbering": false,
   "user_envs_cfg": false
  },
  "nteract": {
   "version": "0.12.3"
  }
 },
 "nbformat": 4,
 "nbformat_minor": 2
}
